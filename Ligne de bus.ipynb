{
 "cells": [
  {
   "cell_type": "code",
   "execution_count": 2,
   "id": "d00f2815-0d8e-48ba-b9c3-2c9f7a6e1486",
   "metadata": {
    "jupyter": {
     "source_hidden": true
    }
   },
   "outputs": [],
   "source": [
    "c = 10 # consommation d'H2 d'un bus safra rempli de passager, en kg/100km cf site https://www.h2-mobile.fr/actus/bus-hydrogene-safra-compte-arriver-prix-electrique-2024/\n",
    "#insérer la distance parcourue par le bus de terminus à terminus en km, le nombre de parcours en une journée, taille du réservoir d'hydrogène en kg\n",
    "def bus(d,n,taille) : \n",
    "    c1 = (c/100)*d # consommation d'hydrogène sur un trajet (kg)\n",
    "    c2 = c1*n # consommation d'hydrogène en un jour (kg)\n",
    "    t2 = taille/c2 # autonomie en jour\n",
    "    return c2,t2"
   ]
  },
  {
   "cell_type": "code",
   "execution_count": 19,
   "id": "418a11a4-c35a-4d80-9ece-8780ffdd07d6",
   "metadata": {
    "scrolled": true
   },
   "outputs": [
    {
     "data": {
      "text/plain": [
       "(22.0, 1.3636363636363635)"
      ]
     },
     "execution_count": 19,
     "metadata": {},
     "output_type": "execute_result"
    }
   ],
   "source": [
    "bus (11,20,30)"
   ]
  },
  {
   "cell_type": "code",
   "execution_count": null,
   "id": "4c742bb9-84b0-4330-be5d-0f6239f1e728",
   "metadata": {},
   "outputs": [],
   "source": [
    "# données : \n",
    "    # bus ligne 8 : 17 aller simple par jours de 8.2 km en 14,5 heures dont 12,65 roulées\n",
    "    # bus ligne 18 : 18 aller simple par jour de 11 km\n",
    "    # bus ligne 12 : 20 aller simple de 11km"
   ]
  },
  {
   "cell_type": "code",
   "execution_count": 3,
   "id": "cc7865b5-9f44-4f5e-996a-264c9ef85223",
   "metadata": {},
   "outputs": [
    {
     "data": {
      "text/plain": [
       "200.96"
      ]
     },
     "execution_count": 3,
     "metadata": {},
     "output_type": "execute_result"
    }
   ],
   "source": [
    "def f(x8,x18,x12,taille) : \n",
    "    return x8*bus(8.2,17,taille)[0] + x18*bus(11,18,taille)[0] + x12*bus(11,20,taille)[0]\n",
    "f(4,4,3,35)"
   ]
  }
 ],
 "metadata": {
  "kernelspec": {
   "display_name": "Python 3 (ipykernel)",
   "language": "python",
   "name": "python3"
  },
  "language_info": {
   "codemirror_mode": {
    "name": "ipython",
    "version": 3
   },
   "file_extension": ".py",
   "mimetype": "text/x-python",
   "name": "python",
   "nbconvert_exporter": "python",
   "pygments_lexer": "ipython3",
   "version": "3.11.5"
  }
 },
 "nbformat": 4,
 "nbformat_minor": 5
}
