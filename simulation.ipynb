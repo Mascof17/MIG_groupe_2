{
 "cells": [
  {
   "cell_type": "code",
   "execution_count": 132,
   "id": "4fe2e451-cec6-4f6d-acdb-c87005b55f86",
   "metadata": {},
   "outputs": [],
   "source": [
    "import CoolProp.CoolProp as cp\n",
    "import numpy as np\n",
    "from matplotlib import pyplot as plt"
   ]
  },
  {
   "cell_type": "code",
   "execution_count": 133,
   "id": "2238134c-1d3c-4676-8236-77a0da3c5fea",
   "metadata": {},
   "outputs": [],
   "source": [
    "def p_inlet(t, p_i_fcv, aprr):\n",
    "    return p_i_fcv+(aprr/60)*t*1e6\n",
    "# p_i_fcv : pressure in fuel cell vehicle\n",
    "# aprr : average pressure rate ramp according to SAE J 2601 standard\n",
    "# p_inlet calculates the pressure inlet"
   ]
  },
  {
   "cell_type": "code",
   "execution_count": 134,
   "id": "0dc8b8fd-5407-48bf-ae2d-27a0b08689c5",
   "metadata": {},
   "outputs": [],
   "source": [
    "def redvalve(p_i, p_o, T_in, kp, rho_o):\n",
    "    del_p = abs(p_i-p_o)/1e5\n",
    "    rho_i = cp.PropsSI('Dmass', 'T', T_in, 'P', p_i, 'H2')\n",
    "    kp = kp\n",
    "    vdot = (2*del_p/(kp*rho_i))**0.5\n",
    "    mdot = (vdot/3600)*rho_o\n",
    "    return mdot\n",
    "# calculates flow rate"
   ]
  },
  {
   "cell_type": "code",
   "execution_count": 135,
   "id": "3f5fa057-fbfa-45f1-9ee4-4aebf733c43c",
   "metadata": {},
   "outputs": [],
   "source": [
    "P_initial_fcv = 20e5\n",
    "T_initial_fcv = 25+273.15\n",
    "V_fcv = 0.15\n",
    "du_dt = 0\n",
    "dm_dt = 0\n",
    "u = cp.PropsSI('U', 'P', P_initial_fcv, 'T', T_initial_fcv, 'H2')\n",
    "m = V_fcv*cp.PropsSI('D', 'P', P_initial_fcv, 'T', T_initial_fcv, 'H2')\n",
    "dt = 0.1\n",
    "t = 0\n",
    "p_fcv = P_initial_fcv "
   ]
  },
  {
   "cell_type": "code",
   "execution_count": 136,
   "id": "68541dbd-861f-4d66-8648-a469ae3e9a9c",
   "metadata": {},
   "outputs": [],
   "source": [
    "time_array = np.array([])\n",
    "mdot_array = np.array([])\n",
    "T_array = np.array([])"
   ]
  },
  {
   "cell_type": "code",
   "execution_count": 137,
   "id": "64b7b654-3c99-4f7e-978d-3a328debdbef",
   "metadata": {},
   "outputs": [],
   "source": [
    "while p_fcv<700e5:\n",
    "    u = du_dt*dt+u\n",
    "    m = dm_dt*dt+m\n",
    "    rho_fcv = m/V_fcv\n",
    "    pi_fcv = p_inlet(t, P_initial_fcv, 28.2)\n",
    "    T_i =-40+273.15\n",
    "    p_fcv = cp.PropsSI('P', 'U', u, 'Dmass', rho_fcv, 'H2')\n",
    "    dm_dt = redvalve(pi_fcv, p_fcv, T_i, 0.035, rho_fcv)\n",
    "    hin = cp.PropsSI('H', 'P', pi_fcv, 'T', T_i, 'H2')\n",
    "    du_dt = dm_dt*(hin-u)/m\n",
    "    T_fcv = cp.PropsSI('T', 'U', u, 'Dmass', rho_fcv, 'H2')\n",
    "    time_array = np.append(t, time_array)\n",
    "    mdot_array = np.append(dm_dt, mdot_array)\n",
    "    T_array = np.append(T_fcv, T_array)\n",
    "    t += dt"
   ]
  },
  {
   "cell_type": "code",
   "execution_count": 145,
   "id": "35e9c7bd-98e4-4662-9a2c-420ff6ca7394",
   "metadata": {},
   "outputs": [
    {
     "data": {
      "text/plain": [
       "77.95558162124706"
      ]
     },
     "execution_count": 145,
     "metadata": {},
     "output_type": "execute_result"
    }
   ],
   "source": [
    "T_fcv-273.15"
   ]
  },
  {
   "cell_type": "code",
   "execution_count": 142,
   "id": "2ffa092b-1750-4eb4-9757-558a6904d79d",
   "metadata": {},
   "outputs": [
    {
     "data": {
      "text/plain": [
       "[<matplotlib.lines.Line2D at 0x12a9f2ad0>]"
      ]
     },
     "execution_count": 142,
     "metadata": {},
     "output_type": "execute_result"
    },
    {
     "data": {
      "image/png": "[encoded data removed]",
      "text/plain": [
       "<Figure size 640x480 with 1 Axes>"
      ]
     },
     "metadata": {},
     "output_type": "display_data"
    }
   ],
   "source": [
    "plt.plot(time_array, T_array-273.15)"
   ]
  },
  {
   "cell_type": "code",
   "execution_count": 108,
   "id": "b8ba77aa-8acc-4966-91dd-ab344bdd00ed",
   "metadata": {},
   "outputs": [],
   "source": [
    "def wdot_cooling(p, mdot, Tin, r, Tout = -40+273.15):\n",
    "    hin = cp.PropsSI('H', 'P', p, 'T', Tin, 'H2')\n",
    "    hout = cp.PropsSI('H', 'P', p, 'T', Tout, 'H2')\n",
    "    return mdot*(hout-hin)/r"
   ]
  },
  {
   "cell_type": "code",
   "execution_count": null,
   "id": "8a1f463a-7756-4503-9688-33c5516e6263",
   "metadata": {},
   "outputs": [],
   "source": [
    "def T_valve(t, ptank, pi_fcv, Ttank, Tin = -40+273.15):\n",
    "    pin = p_inlet(t, p_i_fcv, 28.2)\n",
    "    "
   ]
  }
 ],
 "metadata": {
  "kernelspec": {
   "display_name": "Python 3 (ipykernel)",
   "language": "python",
   "name": "python3"
  },
  "language_info": {
   "codemirror_mode": {
    "name": "ipython",
    "version": 3
   },
   "file_extension": ".py",
   "mimetype": "text/x-python",
   "name": "python",
   "nbconvert_exporter": "python",
   "pygments_lexer": "ipython3",
   "version": "3.11.4"
  }
 },
 "nbformat": 4,
 "nbformat_minor": 5
}
