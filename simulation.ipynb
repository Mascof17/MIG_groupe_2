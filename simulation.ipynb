{
 "cells": [
  {
   "cell_type": "code",
   "execution_count": 1,
   "id": "4fe2e451-cec6-4f6d-acdb-c87005b55f86",
   "metadata": {
    "vscode": {
     "languageId": "shellscript"
    }
   },
   "outputs": [
    {
     "name": "stdout",
     "output_type": "stream",
     "text": [
      "import : Le terme import n'est pas reconnu comme nom d'applet de commande, fonction, fichier de script ou programme \n",
      "excutable. Vrifiez l'orthographe du nom, ou si un chemin d'accs existe, vrifiez que le chemin d'accs est correct \n",
      "et ressayez.\n",
      "Au caractre Ligne:1 : 1\n",
      "+ import CoolProp.CoolProp as cp\n",
      "+ ~~~~~~\n",
      "    + CategoryInfo          : ObjectNotFound: (import:String) [], CommandNotFoundException\n",
      "    + FullyQualifiedErrorId : CommandNotFoundException\n",
      " \n",
      "import : Le terme import n'est pas reconnu comme nom d'applet de commande, fonction, fichier de script ou programme \n",
      "excutable. Vrifiez l'orthographe du nom, ou si un chemin d'accs existe, vrifiez que le chemin d'accs est correct \n",
      "et ressayez.\n",
      "Au caractre Ligne:1 : 1\n",
      "+ import numpy as np\n",
      "+ ~~~~~~\n",
      "    + CategoryInfo          : ObjectNotFound: (import:String) [], CommandNotFoundException\n",
      "    + FullyQualifiedErrorId : CommandNotFoundException\n",
      " \n",
      "Au caractre Ligne:1 : 1\n",
      "+ from matplotlib import pyplot as plt\n",
      "+ ~~~~\n",
      "Le mot cl from n'est pas pris en charge dans cette version du langage.\n",
      "    + CategoryInfo          : ParserError: (:) [], ParentContainsErrorRecordException\n",
      "    + FullyQualifiedErrorId : ReservedKeywordNotAllowed\n",
      " \n",
      "\n"
     ]
    }
   ],
   "source": [
    "import CoolProp.CoolProp as cp\n",
    "import numpy as np\n",
    "from matplotlib import pyplot as plt"
   ]
  },
  {
   "cell_type": "code",
   "execution_count": 2,
   "id": "2238134c-1d3c-4676-8236-77a0da3c5fea",
   "metadata": {
    "vscode": {
     "languageId": "shellscript"
    }
   },
   "outputs": [
    {
     "name": "stdout",
     "output_type": "stream",
     "text": [
      "Au caractre Ligne:1 : 14\n",
      "+ def p_inlet(t, p_i_fcv, aprr):\n",
      "+              ~\n",
      "Argument manquant dans la liste de paramtres.\n",
      "    + CategoryInfo          : ParserError: (:) [], ParentContainsErrorRecordException\n",
      "    + FullyQualifiedErrorId : MissingArgument\n",
      " \n",
      "aprr/60 : Le terme aprr/60 n'est pas reconnu comme nom d'applet de commande, fonction, fichier de script ou \n",
      "programme excutable. Vrifiez l'orthographe du nom, ou si un chemin d'accs existe, vrifiez que le chemin d'accs \n",
      "est correct et ressayez.\n",
      "Au caractre Ligne:1 : 21\n",
      "+     return p_i_fcv+(aprr/60)*t*1e6\n",
      "+                     ~~~~~~~\n",
      "    + CategoryInfo          : ObjectNotFound: (aprr/60:String) [], CommandNotFoundException\n",
      "    + FullyQualifiedErrorId : CommandNotFoundException\n",
      " \n",
      "\n"
     ]
    }
   ],
   "source": [
    "def p_inlet(t, p_i_fcv, aprr):\n",
    "    return p_i_fcv+(aprr/60)*t*1e6\n",
    "# p_i_fcv : pressure in fuel cell vehicle\n",
    "# aprr : average pressure rate ramp according to SAE J 2601 standard\n",
    "# p_inlet calculates the pressure inlet"
   ]
  },
  {
   "cell_type": "code",
   "execution_count": 3,
   "id": "0dc8b8fd-5407-48bf-ae2d-27a0b08689c5",
   "metadata": {
    "vscode": {
     "languageId": "shellscript"
    }
   },
   "outputs": [
    {
     "name": "stdout",
     "output_type": "stream",
     "text": [
      "Au caractre Ligne:1 : 17\n",
      "+ def redvalve(p_i, p_o, T_in, kp, rho_o):\n",
      "+                 ~\n",
      "Argument manquant dans la liste de paramtres.\n",
      "    + CategoryInfo          : ParserError: (:) [], ParentContainsErrorRecordException\n",
      "    + FullyQualifiedErrorId : MissingArgument\n",
      " \n",
      "p_i-p_o : Le terme p_i-p_o n'est pas reconnu comme nom d'applet de commande, fonction, fichier de script ou \n",
      "programme excutable. Vrifiez l'orthographe du nom, ou si un chemin d'accs existe, vrifiez que le chemin d'accs \n",
      "est correct et ressayez.\n",
      "Au caractre Ligne:1 : 17\n",
      "+     del_p = abs(p_i-p_o)/1e5\n",
      "+                 ~~~~~~~\n",
      "    + CategoryInfo          : ObjectNotFound: (p_i-p_o:String) [], CommandNotFoundException\n",
      "    + FullyQualifiedErrorId : CommandNotFoundException\n",
      " \n",
      "Au caractre Ligne:1 : 37\n",
      "+     rho_i = cp.PropsSI('Dmass', 'T', T_in, 'P', p_i, 'H2')\n",
      "+                                     ~\n",
      "Expression manquante aprs ,.\n",
      "Au caractre Ligne:1 : 38\n",
      "+     rho_i = cp.PropsSI('Dmass', 'T', T_in, 'P', p_i, 'H2')\n",
      "+                                      ~~~~\n",
      "Jeton inattendu T_in dans l'expression ou l'instruction.\n",
      "Au caractre Ligne:1 : 37\n",
      "+     rho_i = cp.PropsSI('Dmass', 'T', T_in, 'P', p_i, 'H2')\n",
      "+                                     ~\n",
      "Parenthse fermante ) manquante dans l'expression.\n",
      "Au caractre Ligne:1 : 58\n",
      "+     rho_i = cp.PropsSI('Dmass', 'T', T_in, 'P', p_i, 'H2')\n",
      "+                                                          ~\n",
      "Jeton inattendu ) dans l'expression ou l'instruction.\n",
      "    + CategoryInfo          : ParserError: (:) [], ParentContainsErrorRecordException\n",
      "    + FullyQualifiedErrorId : MissingExpressionAfterToken\n",
      " \n",
      "kp : Le terme kp n'est pas reconnu comme nom d'applet de commande, fonction, fichier de script ou programme \n",
      "excutable. Vrifiez l'orthographe du nom, ou si un chemin d'accs existe, vrifiez que le chemin d'accs est correct \n",
      "et ressayez.\n",
      "Au caractre Ligne:1 : 5\n",
      "+     kp = kp\n",
      "+     ~~\n",
      "    + CategoryInfo          : ObjectNotFound: (kp:String) [], CommandNotFoundException\n",
      "    + FullyQualifiedErrorId : CommandNotFoundException\n",
      " \n",
      "Au caractre Ligne:1 : 15\n",
      "+     vdot = (2*del_p/(kp*rho_i))**0.5\n",
      "+               ~\n",
      "Vous devez indiquer une expression de valeur aprs l'oprateur *.\n",
      "Au caractre Ligne:1 : 15\n",
      "+     vdot = (2*del_p/(kp*rho_i))**0.5\n",
      "+               ~~~~~~\n",
      "Jeton inattendu del_p/ dans l'expression ou l'instruction.\n",
      "Au caractre Ligne:1 : 15\n",
      "+     vdot = (2*del_p/(kp*rho_i))**0.5\n",
      "+               ~\n",
      "Parenthse fermante ) manquante dans l'expression.\n",
      "Au caractre Ligne:1 : 31\n",
      "+     vdot = (2*del_p/(kp*rho_i))**0.5\n",
      "+                               ~\n",
      "Jeton inattendu ) dans l'expression ou l'instruction.\n",
      "    + CategoryInfo          : ParserError: (:) [], ParentContainsErrorRecordException\n",
      "    + FullyQualifiedErrorId : ExpectedValueExpression\n",
      " \n",
      "vdot/3600 : Le terme vdot/3600 n'est pas reconnu comme nom d'applet de commande, fonction, fichier de script ou \n",
      "programme excutable. Vrifiez l'orthographe du nom, ou si un chemin d'accs existe, vrifiez que le chemin d'accs \n",
      "est correct et ressayez.\n",
      "Au caractre Ligne:1 : 13\n",
      "+     mdot = (vdot/3600)*rho_o\n",
      "+             ~~~~~~~~~\n",
      "    + CategoryInfo          : ObjectNotFound: (vdot/3600:String) [], CommandNotFoundException\n",
      "    + FullyQualifiedErrorId : CommandNotFoundException\n",
      " \n",
      "mdot : Le terme mdot n'est pas reconnu comme nom d'applet de commande, fonction, fichier de script ou programme \n",
      "excutable. Vrifiez l'orthographe du nom, ou si un chemin d'accs existe, vrifiez que le chemin d'accs est correct \n",
      "et ressayez.\n",
      "Au caractre Ligne:1 : 12\n",
      "+     return mdot\n",
      "+            ~~~~\n",
      "    + CategoryInfo          : ObjectNotFound: (mdot:String) [], CommandNotFoundException\n",
      "    + FullyQualifiedErrorId : CommandNotFoundException\n",
      " \n",
      "\n"
     ]
    }
   ],
   "source": [
    "def redvalve(p_i, p_o, T_in, kp, rho_o):\n",
    "    del_p = abs(p_i-p_o)/1e5\n",
    "    rho_i = cp.PropsSI('Dmass', 'T', T_in, 'P', p_i, 'H2')\n",
    "    kp = kp\n",
    "    vdot = (2*del_p/(kp*rho_i))**0.5\n",
    "    mdot = (vdot/3600)*rho_o\n",
    "    return mdot\n",
    "# calculates flow rate"
   ]
  },
  {
   "cell_type": "code",
   "execution_count": 4,
   "id": "3f5fa057-fbfa-45f1-9ee4-4aebf733c43c",
   "metadata": {
    "vscode": {
     "languageId": "shellscript"
    }
   },
   "outputs": [
    {
     "name": "stdout",
     "output_type": "stream",
     "text": [
      "P_initial_fcv : Le terme P_initial_fcv n'est pas reconnu comme nom d'applet de commande, fonction, fichier de script \n",
      "ou programme excutable. Vrifiez l'orthographe du nom, ou si un chemin d'accs existe, vrifiez que le chemin d'accs \n",
      "est correct et ressayez.\n",
      "Au caractre Ligne:1 : 1\n",
      "+ P_initial_fcv = 20e5\n",
      "+ ~~~~~~~~~~~~~\n",
      "    + CategoryInfo          : ObjectNotFound: (P_initial_fcv:String) [], CommandNotFoundException\n",
      "    + FullyQualifiedErrorId : CommandNotFoundException\n",
      " \n",
      "T_initial_fcv : Le terme T_initial_fcv n'est pas reconnu comme nom d'applet de commande, fonction, fichier de script \n",
      "ou programme excutable. Vrifiez l'orthographe du nom, ou si un chemin d'accs existe, vrifiez que le chemin d'accs \n",
      "est correct et ressayez.\n",
      "Au caractre Ligne:1 : 1\n",
      "+ T_initial_fcv = 25+273.15\n",
      "+ ~~~~~~~~~~~~~\n",
      "    + CategoryInfo          : ObjectNotFound: (T_initial_fcv:String) [], CommandNotFoundException\n",
      "    + FullyQualifiedErrorId : CommandNotFoundException\n",
      " \n",
      "V_fcv : Le terme V_fcv n'est pas reconnu comme nom d'applet de commande, fonction, fichier de script ou programme \n",
      "excutable. Vrifiez l'orthographe du nom, ou si un chemin d'accs existe, vrifiez que le chemin d'accs est correct \n",
      "et ressayez.\n",
      "Au caractre Ligne:1 : 1\n",
      "+ V_fcv = 0.15\n",
      "+ ~~~~~\n",
      "    + CategoryInfo          : ObjectNotFound: (V_fcv:String) [], CommandNotFoundException\n",
      "    + FullyQualifiedErrorId : CommandNotFoundException\n",
      " \n",
      "du_dt : Le terme du_dt n'est pas reconnu comme nom d'applet de commande, fonction, fichier de script ou programme \n",
      "excutable. Vrifiez l'orthographe du nom, ou si un chemin d'accs existe, vrifiez que le chemin d'accs est correct \n",
      "et ressayez.\n",
      "Au caractre Ligne:1 : 1\n",
      "+ du_dt = 0\n",
      "+ ~~~~~\n",
      "    + CategoryInfo          : ObjectNotFound: (du_dt:String) [], CommandNotFoundException\n",
      "    + FullyQualifiedErrorId : CommandNotFoundException\n",
      " \n",
      "dm_dt : Le terme dm_dt n'est pas reconnu comme nom d'applet de commande, fonction, fichier de script ou programme \n",
      "excutable. Vrifiez l'orthographe du nom, ou si un chemin d'accs existe, vrifiez que le chemin d'accs est correct \n",
      "et ressayez.\n",
      "Au caractre Ligne:1 : 1\n",
      "+ dm_dt = 0\n",
      "+ ~~~~~\n",
      "    + CategoryInfo          : ObjectNotFound: (dm_dt:String) [], CommandNotFoundException\n",
      "    + FullyQualifiedErrorId : CommandNotFoundException\n",
      " \n",
      "Au caractre Ligne:1 : 25\n",
      "+ u = cp.PropsSI('U', 'P', P_initial_fcv, 'T', T_initial_fcv, 'H2')\n",
      "+                         ~\n",
      "Expression manquante aprs ,.\n",
      "Au caractre Ligne:1 : 26\n",
      "+ u = cp.PropsSI('U', 'P', P_initial_fcv, 'T', T_initial_fcv, 'H2')\n",
      "+                          ~~~~~~~~~~~~~\n",
      "Jeton inattendu P_initial_fcv dans l'expression ou l'instruction.\n",
      "Au caractre Ligne:1 : 25\n",
      "+ u = cp.PropsSI('U', 'P', P_initial_fcv, 'T', T_initial_fcv, 'H2')\n",
      "+                         ~\n",
      "Parenthse fermante ) manquante dans l'expression.\n",
      "Au caractre Ligne:1 : 65\n",
      "+ u = cp.PropsSI('U', 'P', P_initial_fcv, 'T', T_initial_fcv, 'H2')\n",
      "+                                                                 ~\n",
      "Jeton inattendu ) dans l'expression ou l'instruction.\n",
      "    + CategoryInfo          : ParserError: (:) [], ParentContainsErrorRecordException\n",
      "    + FullyQualifiedErrorId : MissingExpressionAfterToken\n",
      " \n",
      "Au caractre Ligne:1 : 31\n",
      "+ m = V_fcv*cp.PropsSI('D', 'P', P_initial_fcv, 'T', T_initial_fcv, 'H2 ...\n",
      "+                               ~\n",
      "Expression manquante aprs ,.\n",
      "Au caractre Ligne:1 : 32\n",
      "+ m = V_fcv*cp.PropsSI('D', 'P', P_initial_fcv, 'T', T_initial_fcv, 'H2 ...\n",
      "+                                ~~~~~~~~~~~~~\n",
      "Jeton inattendu P_initial_fcv dans l'expression ou l'instruction.\n",
      "Au caractre Ligne:1 : 31\n",
      "+ m = V_fcv*cp.PropsSI('D', 'P', P_initial_fcv, 'T', T_initial_fcv, 'H2 ...\n",
      "+                               ~\n",
      "Parenthse fermante ) manquante dans l'expression.\n",
      "Au caractre Ligne:1 : 71\n",
      "+ ... = V_fcv*cp.PropsSI('D', 'P', P_initial_fcv, 'T', T_initial_fcv, 'H2')\n",
      "+                                                                         ~\n",
      "Jeton inattendu ) dans l'expression ou l'instruction.\n",
      "    + CategoryInfo          : ParserError: (:) [], ParentContainsErrorRecordException\n",
      "    + FullyQualifiedErrorId : MissingExpressionAfterToken\n",
      " \n",
      "dt : Le terme dt n'est pas reconnu comme nom d'applet de commande, fonction, fichier de script ou programme \n",
      "excutable. Vrifiez l'orthographe du nom, ou si un chemin d'accs existe, vrifiez que le chemin d'accs est correct \n",
      "et ressayez.\n",
      "Au caractre Ligne:1 : 1\n",
      "+ dt = 0.1\n",
      "+ ~~\n",
      "    + CategoryInfo          : ObjectNotFound: (dt:String) [], CommandNotFoundException\n",
      "    + FullyQualifiedErrorId : CommandNotFoundException\n",
      " \n",
      "t : Le terme t n'est pas reconnu comme nom d'applet de commande, fonction, fichier de script ou programme \n",
      "excutable. Vrifiez l'orthographe du nom, ou si un chemin d'accs existe, vrifiez que le chemin d'accs est correct \n",
      "et ressayez.\n",
      "Au caractre Ligne:1 : 1\n",
      "+ t = 0\n",
      "+ ~\n",
      "    + CategoryInfo          : ObjectNotFound: (t:String) [], CommandNotFoundException\n",
      "    + FullyQualifiedErrorId : CommandNotFoundException\n",
      " \n",
      "p_fcv : Le terme p_fcv n'est pas reconnu comme nom d'applet de commande, fonction, fichier de script ou programme \n",
      "excutable. Vrifiez l'orthographe du nom, ou si un chemin d'accs existe, vrifiez que le chemin d'accs est correct \n",
      "et ressayez.\n",
      "Au caractre Ligne:1 : 1\n",
      "+ p_fcv = P_initial_fcv\n",
      "+ ~~~~~\n",
      "    + CategoryInfo          : ObjectNotFound: (p_fcv:String) [], CommandNotFoundException\n",
      "    + FullyQualifiedErrorId : CommandNotFoundException\n",
      " \n",
      "\n"
     ]
    }
   ],
   "source": [
    "P_initial_fcv = 20e5\n",
    "T_initial_fcv = 25+273.15\n",
    "V_fcv = 0.15\n",
    "du_dt = 0\n",
    "dm_dt = 0\n",
    "u = cp.PropsSI('U', 'P', P_initial_fcv, 'T', T_initial_fcv, 'H2')\n",
    "m = V_fcv*cp.PropsSI('D', 'P', P_initial_fcv, 'T', T_initial_fcv, 'H2')\n",
    "dt = 0.1\n",
    "t = 0\n",
    "p_fcv = P_initial_fcv "
   ]
  },
  {
   "cell_type": "code",
   "execution_count": 5,
   "id": "68541dbd-861f-4d66-8648-a469ae3e9a9c",
   "metadata": {
    "vscode": {
     "languageId": "shellscript"
    }
   },
   "outputs": [
    {
     "name": "stdout",
     "output_type": "stream",
     "text": [
      "Au caractre Ligne:1 : 24\n",
      "+ time_array = np.array([])\n",
      "+                        ~\n",
      "Nom de type manquant aprs [.\n",
      "    + CategoryInfo          : ParserError: (:) [], ParentContainsErrorRecordException\n",
      "    + FullyQualifiedErrorId : MissingTypename\n",
      " \n",
      "Au caractre Ligne:1 : 24\n",
      "+ mdot_array = np.array([])\n",
      "+                        ~\n",
      "Nom de type manquant aprs [.\n",
      "    + CategoryInfo          : ParserError: (:) [], ParentContainsErrorRecordException\n",
      "    + FullyQualifiedErrorId : MissingTypename\n",
      " \n",
      "Au caractre Ligne:1 : 21\n",
      "+ T_array = np.array([])\n",
      "+                     ~\n",
      "Nom de type manquant aprs [.\n",
      "    + CategoryInfo          : ParserError: (:) [], ParentContainsErrorRecordException\n",
      "    + FullyQualifiedErrorId : MissingTypename\n",
      " \n",
      "\n"
     ]
    }
   ],
   "source": [
    "time_array = np.array([])\n",
    "mdot_array = np.array([])\n",
    "T_array = np.array([])"
   ]
  },
  {
   "cell_type": "code",
   "execution_count": 6,
   "id": "64b7b654-3c99-4f7e-978d-3a328debdbef",
   "metadata": {
    "vscode": {
     "languageId": "shellscript"
    }
   },
   "outputs": [
    {
     "name": "stdout",
     "output_type": "stream",
     "text": [
      "Au caractre Ligne:1 : 6\n",
      "+ while p_fcv<700e5:\n",
      "+      ~\n",
      "Parenthse ouvrant ( manquante aprs le mot cl while.\n",
      "    + CategoryInfo          : ParserError: (:) [], ParentContainsErrorRecordException\n",
      "    + FullyQualifiedErrorId : MissingOpenParenthesisAfterKeyword\n",
      " \n",
      "u : Le terme u n'est pas reconnu comme nom d'applet de commande, fonction, fichier de script ou programme \n",
      "excutable. Vrifiez l'orthographe du nom, ou si un chemin d'accs existe, vrifiez que le chemin d'accs est correct \n",
      "et ressayez.\n",
      "Au caractre Ligne:1 : 5\n",
      "+     u = du_dt*dt+u\n",
      "+     ~\n",
      "    + CategoryInfo          : ObjectNotFound: (u:String) [], CommandNotFoundException\n",
      "    + FullyQualifiedErrorId : CommandNotFoundException\n",
      " \n",
      "m : Le terme m n'est pas reconnu comme nom d'applet de commande, fonction, fichier de script ou programme \n",
      "excutable. Vrifiez l'orthographe du nom, ou si un chemin d'accs existe, vrifiez que le chemin d'accs est correct \n",
      "et ressayez.\n",
      "Au caractre Ligne:1 : 5\n",
      "+     m = dm_dt*dt+m\n",
      "+     ~\n",
      "    + CategoryInfo          : ObjectNotFound: (m:String) [], CommandNotFoundException\n",
      "    + FullyQualifiedErrorId : CommandNotFoundException\n",
      " \n",
      "rho_fcv : Le terme rho_fcv n'est pas reconnu comme nom d'applet de commande, fonction, fichier de script ou \n",
      "programme excutable. Vrifiez l'orthographe du nom, ou si un chemin d'accs existe, vrifiez que le chemin d'accs \n",
      "est correct et ressayez.\n",
      "Au caractre Ligne:1 : 5\n",
      "+     rho_fcv = m/V_fcv\n",
      "+     ~~~~~~~\n",
      "    + CategoryInfo          : ObjectNotFound: (rho_fcv:String) [], CommandNotFoundException\n",
      "    + FullyQualifiedErrorId : CommandNotFoundException\n",
      " \n",
      "Au caractre Ligne:1 : 23\n",
      "+     pi_fcv = p_inlet(t, P_initial_fcv, 28.2)\n",
      "+                       ~\n",
      "Argument manquant dans la liste de paramtres.\n",
      "    + CategoryInfo          : ParserError: (:) [], ParentContainsErrorRecordException\n",
      "    + FullyQualifiedErrorId : MissingArgument\n",
      " \n",
      "T_i : Le terme T_i n'est pas reconnu comme nom d'applet de commande, fonction, fichier de script ou programme \n",
      "excutable. Vrifiez l'orthographe du nom, ou si un chemin d'accs existe, vrifiez que le chemin d'accs est correct \n",
      "et ressayez.\n",
      "Au caractre Ligne:1 : 5\n",
      "+     T_i =-40+273.15\n",
      "+     ~~~\n",
      "    + CategoryInfo          : ObjectNotFound: (T_i:String) [], CommandNotFoundException\n",
      "    + FullyQualifiedErrorId : CommandNotFoundException\n",
      " \n",
      "Au caractre Ligne:1 : 33\n",
      "+     p_fcv = cp.PropsSI('P', 'U', u, 'Dmass', rho_fcv, 'H2')\n",
      "+                                 ~\n",
      "Expression manquante aprs ,.\n",
      "Au caractre Ligne:1 : 34\n",
      "+     p_fcv = cp.PropsSI('P', 'U', u, 'Dmass', rho_fcv, 'H2')\n",
      "+                                  ~\n",
      "Jeton inattendu u dans l'expression ou l'instruction.\n",
      "Au caractre Ligne:1 : 33\n",
      "+     p_fcv = cp.PropsSI('P', 'U', u, 'Dmass', rho_fcv, 'H2')\n",
      "+                                 ~\n",
      "Parenthse fermante ) manquante dans l'expression.\n",
      "Au caractre Ligne:1 : 59\n",
      "+     p_fcv = cp.PropsSI('P', 'U', u, 'Dmass', rho_fcv, 'H2')\n",
      "+                                                           ~\n",
      "Jeton inattendu ) dans l'expression ou l'instruction.\n",
      "    + CategoryInfo          : ParserError: (:) [], ParentContainsErrorRecordException\n",
      "    + FullyQualifiedErrorId : MissingExpressionAfterToken\n",
      " \n",
      "Au caractre Ligne:1 : 28\n",
      "+     dm_dt = redvalve(pi_fcv, p_fcv, T_i, 0.035, rho_fcv)\n",
      "+                            ~\n",
      "Argument manquant dans la liste de paramtres.\n",
      "    + CategoryInfo          : ParserError: (:) [], ParentContainsErrorRecordException\n",
      "    + FullyQualifiedErrorId : MissingArgument\n",
      " \n",
      "Au caractre Ligne:1 : 31\n",
      "+     hin = cp.PropsSI('H', 'P', pi_fcv, 'T', T_i, 'H2')\n",
      "+                               ~\n",
      "Expression manquante aprs ,.\n",
      "Au caractre Ligne:1 : 32\n",
      "+     hin = cp.PropsSI('H', 'P', pi_fcv, 'T', T_i, 'H2')\n",
      "+                                ~~~~~~\n",
      "Jeton inattendu pi_fcv dans l'expression ou l'instruction.\n",
      "Au caractre Ligne:1 : 31\n",
      "+     hin = cp.PropsSI('H', 'P', pi_fcv, 'T', T_i, 'H2')\n",
      "+                               ~\n",
      "Parenthse fermante ) manquante dans l'expression.\n",
      "Au caractre Ligne:1 : 54\n",
      "+     hin = cp.PropsSI('H', 'P', pi_fcv, 'T', T_i, 'H2')\n",
      "+                                                      ~\n",
      "Jeton inattendu ) dans l'expression ou l'instruction.\n",
      "    + CategoryInfo          : ParserError: (:) [], ParentContainsErrorRecordException\n",
      "    + FullyQualifiedErrorId : MissingExpressionAfterToken\n",
      " \n",
      "hin-u : Le terme hin-u n'est pas reconnu comme nom d'applet de commande, fonction, fichier de script ou programme \n",
      "excutable. Vrifiez l'orthographe du nom, ou si un chemin d'accs existe, vrifiez que le chemin d'accs est correct \n",
      "et ressayez.\n",
      "Au caractre Ligne:1 : 20\n",
      "+     du_dt = dm_dt*(hin-u)/m\n",
      "+                    ~~~~~\n",
      "    + CategoryInfo          : ObjectNotFound: (hin-u:String) [], CommandNotFoundException\n",
      "    + FullyQualifiedErrorId : CommandNotFoundException\n",
      " \n",
      "Au caractre Ligne:1 : 33\n",
      "+     T_fcv = cp.PropsSI('T', 'U', u, 'Dmass', rho_fcv, 'H2')\n",
      "+                                 ~\n",
      "Expression manquante aprs ,.\n",
      "Au caractre Ligne:1 : 34\n",
      "+     T_fcv = cp.PropsSI('T', 'U', u, 'Dmass', rho_fcv, 'H2')\n",
      "+                                  ~\n",
      "Jeton inattendu u dans l'expression ou l'instruction.\n",
      "Au caractre Ligne:1 : 33\n",
      "+     T_fcv = cp.PropsSI('T', 'U', u, 'Dmass', rho_fcv, 'H2')\n",
      "+                                 ~\n",
      "Parenthse fermante ) manquante dans l'expression.\n",
      "Au caractre Ligne:1 : 59\n",
      "+     T_fcv = cp.PropsSI('T', 'U', u, 'Dmass', rho_fcv, 'H2')\n",
      "+                                                           ~\n",
      "Jeton inattendu ) dans l'expression ou l'instruction.\n",
      "    + CategoryInfo          : ParserError: (:) [], ParentContainsErrorRecordException\n",
      "    + FullyQualifiedErrorId : MissingExpressionAfterToken\n",
      " \n",
      "Au caractre Ligne:1 : 29\n",
      "+     time_array = np.append(t, time_array)\n",
      "+                             ~\n",
      "Argument manquant dans la liste de paramtres.\n",
      "    + CategoryInfo          : ParserError: (:) [], ParentContainsErrorRecordException\n",
      "    + FullyQualifiedErrorId : MissingArgument\n",
      " \n",
      "Au caractre Ligne:1 : 33\n",
      "+     mdot_array = np.append(dm_dt, mdot_array)\n",
      "+                                 ~\n",
      "Argument manquant dans la liste de paramtres.\n",
      "    + CategoryInfo          : ParserError: (:) [], ParentContainsErrorRecordException\n",
      "    + FullyQualifiedErrorId : MissingArgument\n",
      " \n",
      "Au caractre Ligne:1 : 30\n",
      "+     T_array = np.append(T_fcv, T_array)\n",
      "+                              ~\n",
      "Argument manquant dans la liste de paramtres.\n",
      "    + CategoryInfo          : ParserError: (:) [], ParentContainsErrorRecordException\n",
      "    + FullyQualifiedErrorId : MissingArgument\n",
      " \n",
      "t : Le terme t n'est pas reconnu comme nom d'applet de commande, fonction, fichier de script ou programme \n",
      "excutable. Vrifiez l'orthographe du nom, ou si un chemin d'accs existe, vrifiez que le chemin d'accs est correct \n",
      "et ressayez.\n",
      "Au caractre Ligne:1 : 5\n",
      "+     t += dt\n",
      "+     ~\n",
      "    + CategoryInfo          : ObjectNotFound: (t:String) [], CommandNotFoundException\n",
      "    + FullyQualifiedErrorId : CommandNotFoundException\n",
      " \n",
      "\n"
     ]
    }
   ],
   "source": [
    "while p_fcv<700e5:\n",
    "    u = du_dt*dt+u\n",
    "    m = dm_dt*dt+m\n",
    "    rho_fcv = m/V_fcv\n",
    "    pi_fcv = p_inlet(t, P_initial_fcv, 28.2)\n",
    "    T_i =-40+273.15\n",
    "    p_fcv = cp.PropsSI('P', 'U', u, 'Dmass', rho_fcv, 'H2')\n",
    "    dm_dt = redvalve(pi_fcv, p_fcv, T_i, 0.035, rho_fcv)\n",
    "    hin = cp.PropsSI('H', 'P', pi_fcv, 'T', T_i, 'H2')\n",
    "    du_dt = dm_dt*(hin-u)/m\n",
    "    T_fcv = cp.PropsSI('T', 'U', u, 'Dmass', rho_fcv, 'H2')\n",
    "    time_array = np.append(t, time_array)\n",
    "    mdot_array = np.append(dm_dt, mdot_array)\n",
    "    T_array = np.append(T_fcv, T_array)\n",
    "    t += dt"
   ]
  },
  {
   "cell_type": "code",
   "execution_count": 7,
   "id": "35e9c7bd-98e4-4662-9a2c-420ff6ca7394",
   "metadata": {
    "vscode": {
     "languageId": "shellscript"
    }
   },
   "outputs": [
    {
     "name": "stdout",
     "output_type": "stream",
     "text": [
      "T_fcv-273.15 : Le terme T_fcv-273.15 n'est pas reconnu comme nom d'applet de commande, fonction, fichier de script \n",
      "ou programme excutable. Vrifiez l'orthographe du nom, ou si un chemin d'accs existe, vrifiez que le chemin d'accs \n",
      "est correct et ressayez.\n",
      "Au caractre Ligne:1 : 1\n",
      "+ T_fcv-273.15\n",
      "+ ~~~~~~~~~~~~\n",
      "    + CategoryInfo          : ObjectNotFound: (T_fcv-273.15:String) [], CommandNotFoundException\n",
      "    + FullyQualifiedErrorId : CommandNotFoundException\n",
      " \n",
      "\n"
     ]
    }
   ],
   "source": [
    "T_fcv-273.15"
   ]
  },
  {
   "cell_type": "code",
   "execution_count": 11,
   "id": "2ffa092b-1750-4eb4-9757-558a6904d79d",
   "metadata": {
    "vscode": {
     "languageId": "shellscript"
    }
   },
   "outputs": [
    {
     "name": "stdout",
     "output_type": "stream",
     "text": [
      "Au caractre Ligne:1 : 20\n",
      "+ plt.plot(time_array, T_array-273.15)\n",
      "+                    ~\n",
      "Argument manquant dans la liste de paramtres.\n",
      "    + CategoryInfo          : ParserError: (:) [], ParentContainsErrorRecordException\n",
      "    + FullyQualifiedErrorId : MissingArgument\n",
      " \n",
      "\n"
     ]
    }
   ],
   "source": [
    "plt.plot(time_array, T_array-273.15)"
   ]
  },
  {
   "cell_type": "code",
   "execution_count": 12,
   "id": "b8ba77aa-8acc-4966-91dd-ab344bdd00ed",
   "metadata": {
    "vscode": {
     "languageId": "shellscript"
    }
   },
   "outputs": [
    {
     "name": "stdout",
     "output_type": "stream",
     "text": [
      "Au caractre Ligne:1 : 19\n",
      "+ def wdot_cooling(p, mdot, Tin, r, Tout = -40+273.15):\n",
      "+                   ~\n",
      "Argument manquant dans la liste de paramtres.\n",
      "    + CategoryInfo          : ParserError: (:) [], ParentContainsErrorRecordException\n",
      "    + FullyQualifiedErrorId : MissingArgument\n",
      " \n",
      "Au caractre Ligne:1 : 31\n",
      "+     hin = cp.PropsSI('H', 'P', p, 'T', Tin, 'H2')\n",
      "+                               ~\n",
      "Expression manquante aprs ,.\n",
      "Au caractre Ligne:1 : 32\n",
      "+     hin = cp.PropsSI('H', 'P', p, 'T', Tin, 'H2')\n",
      "+                                ~\n",
      "Jeton inattendu p dans l'expression ou l'instruction.\n",
      "Au caractre Ligne:1 : 31\n",
      "+     hin = cp.PropsSI('H', 'P', p, 'T', Tin, 'H2')\n",
      "+                               ~\n",
      "Parenthse fermante ) manquante dans l'expression.\n",
      "Au caractre Ligne:1 : 49\n",
      "+     hin = cp.PropsSI('H', 'P', p, 'T', Tin, 'H2')\n",
      "+                                                 ~\n",
      "Jeton inattendu ) dans l'expression ou l'instruction.\n",
      "    + CategoryInfo          : ParserError: (:) [], ParentContainsErrorRecordException\n",
      "    + FullyQualifiedErrorId : MissingExpressionAfterToken\n",
      " \n",
      "Au caractre Ligne:1 : 32\n",
      "+     hout = cp.PropsSI('H', 'P', p, 'T', Tout, 'H2')\n",
      "+                                ~\n",
      "Expression manquante aprs ,.\n",
      "Au caractre Ligne:1 : 33\n",
      "+     hout = cp.PropsSI('H', 'P', p, 'T', Tout, 'H2')\n",
      "+                                 ~\n",
      "Jeton inattendu p dans l'expression ou l'instruction.\n",
      "Au caractre Ligne:1 : 32\n",
      "+     hout = cp.PropsSI('H', 'P', p, 'T', Tout, 'H2')\n",
      "+                                ~\n",
      "Parenthse fermante ) manquante dans l'expression.\n",
      "Au caractre Ligne:1 : 51\n",
      "+     hout = cp.PropsSI('H', 'P', p, 'T', Tout, 'H2')\n",
      "+                                                   ~\n",
      "Jeton inattendu ) dans l'expression ou l'instruction.\n",
      "    + CategoryInfo          : ParserError: (:) [], ParentContainsErrorRecordException\n",
      "    + FullyQualifiedErrorId : MissingExpressionAfterToken\n",
      " \n",
      "hout-hin : Le terme hout-hin n'est pas reconnu comme nom d'applet de commande, fonction, fichier de script ou \n",
      "programme excutable. Vrifiez l'orthographe du nom, ou si un chemin d'accs existe, vrifiez que le chemin d'accs \n",
      "est correct et ressayez.\n",
      "Au caractre Ligne:1 : 18\n",
      "+     return mdot*(hout-hin)/r\n",
      "+                  ~~~~~~~~\n",
      "    + CategoryInfo          : ObjectNotFound: (hout-hin:String) [], CommandNotFoundException\n",
      "    + FullyQualifiedErrorId : CommandNotFoundException\n",
      " \n",
      "\n"
     ]
    }
   ],
   "source": [
    "def wdot_cooling(p, mdot, Tin, r, Tout = -40+273.15):\n",
    "    hin = cp.PropsSI('H', 'P', p, 'T', Tin, 'H2')\n",
    "    hout = cp.PropsSI('H', 'P', p, 'T', Tout, 'H2')\n",
    "    return mdot*(hout-hin)/r"
   ]
  },
  {
   "cell_type": "code",
   "execution_count": 9,
   "id": "8a1f463a-7756-4503-9688-33c5516e6263",
   "metadata": {
    "vscode": {
     "languageId": "shellscript"
    }
   },
   "outputs": [
    {
     "name": "stdout",
     "output_type": "stream",
     "text": [
      "Au caractre Ligne:1 : 14\n",
      "+ def T_valve(t, ptank, pi_fcv, Ttank, Tin = -40+273.15):\n",
      "+              ~\n",
      "Argument manquant dans la liste de paramtres.\n",
      "    + CategoryInfo          : ParserError: (:) [], ParentContainsErrorRecordException\n",
      "    + FullyQualifiedErrorId : MissingArgument\n",
      " \n",
      "Au caractre Ligne:1 : 20\n",
      "+     pin = p_inlet(t, p_i_fcv, 28.2)\n",
      "+                    ~\n",
      "Argument manquant dans la liste de paramtres.\n",
      "    + CategoryInfo          : ParserError: (:) [], ParentContainsErrorRecordException\n",
      "    + FullyQualifiedErrorId : MissingArgument\n",
      " \n",
      "\n"
     ]
    }
   ],
   "source": [
    "def T_valve(t, ptank, pi_fcv, Ttank, Tin = -40+273.15):\n",
    "    pin = p_inlet(t, p_i_fcv, 28.2)\n",
    "    "
   ]
  },
  {
   "cell_type": "code",
   "execution_count": null,
   "metadata": {
    "vscode": {
     "languageId": "shellscript"
    }
   },
   "outputs": [],
   "source": []
  }
 ],
 "metadata": {
  "kernelspec": {
   "display_name": "Calysto Bash",
   "language": "bash",
   "name": "calysto_bash"
  },
  "language_info": {
   "file_extension": ".sh",
   "help_links": [
    {
     "text": "MetaKernel Magics",
     "url": "https://metakernel.readthedocs.io/en/latest/source/README.html"
    }
   ],
   "mimetype": "text/x-sh",
   "name": "bash",
   "version": "0.2.2"
  }
 },
 "nbformat": 4,
 "nbformat_minor": 5
}
